{
  "cells": [
    {
      "cell_type": "markdown",
      "metadata": {
        "id": "view-in-github",
        "colab_type": "text"
      },
      "source": [
        "<a href=\"https://colab.research.google.com/github/ilafmakke/tic-tactoc/blob/main/tic_tac_toc.ipynb\" target=\"_parent\"><img src=\"https://colab.research.google.com/assets/colab-badge.svg\" alt=\"Open In Colab\"/></a>"
      ]
    },
    {
      "cell_type": "code",
      "execution_count": 1,
      "metadata": {
        "colab": {
          "base_uri": "https://localhost:8080/"
        },
        "id": "eFmgaD5Wlyx6",
        "outputId": "ed3f0b47-0946-43a1-aeac-e0f587f05433"
      },
      "outputs": [
        {
          "output_type": "stream",
          "name": "stdout",
          "text": [
            "0 0 0\n",
            "-----\n",
            "0 0 0\n",
            "-----\n",
            "0 0 0\n",
            "-----\n"
          ]
        }
      ],
      "source": [
        "board=[[0,0,0],[0,0,0],[0,0,0]]\n",
        "def printing(board):\n",
        "  for s in board:\n",
        "    print(*s)\n",
        "    print('-' * 5)\n",
        "\n",
        "printing(board)\n"
      ]
    },
    {
      "cell_type": "code",
      "execution_count": 2,
      "metadata": {
        "colab": {
          "base_uri": "https://localhost:8080/"
        },
        "id": "bX4khOFgswJz",
        "outputId": "ca1bb335-04d2-473a-d0e6-e8e142f7ac01"
      },
      "outputs": [
        {
          "output_type": "stream",
          "name": "stdout",
          "text": [
            "0 0 0\n",
            "-----\n",
            "0 0 0\n",
            "-----\n",
            "0 0 0\n",
            "-----\n"
          ]
        }
      ],
      "source": [
        "import re\n",
        "def make_move(board, player_symbol):\n",
        "    while True:\n",
        "        try:\n",
        "            player_row_input = input(f\"Player {player_symbol}, enter row (0, 1, or 2): \")\n",
        "            player_col_input = input(f\"Player {player_symbol}, enter column (0, 1, or 2): \")\n",
        "\n",
        "            # Extract numeric part using regular expression\n",
        "            player_row = int(re.search(r'\\d+', player_row_input).group())\n",
        "            player_col = int(re.search(r'\\d+', player_col_input).group())\n",
        "\n",
        "            if 0 <= player_row < 3 and 0 <= player_col < 3 and board[player_row][player_col] == 0:\n",
        "                board[player_row][player_col] = player_symbol\n",
        "                break\n",
        "            else:\n",
        "                print(\"Invalid move. Try again.\")\n",
        "        except ValueError:\n",
        "            print(\"Invalid input. Please enter a number.\")\n",
        "\n",
        "printing(board)\n"
      ]
    },
    {
      "cell_type": "code",
      "execution_count": 3,
      "metadata": {
        "id": "8TBhayn19lzV"
      },
      "outputs": [],
      "source": [
        "def check_win(board, player_symbol):\n",
        "    # Check rows, columns, and diagonals for a win\n",
        "    for i in range(3):\n",
        "        if all(board[i][j] == player_symbol for j in range(3)) or \\\n",
        "           all(board[j][i] == player_symbol for j in range(3)):\n",
        "            return True\n",
        "    if all(board[i][i] == player_symbol for i in range(3)) or \\\n",
        "       all(board[i][2 - i] == player_symbol for i in range(3)):\n",
        "        return True\n",
        "    return False"
      ]
    },
    {
      "cell_type": "code",
      "execution_count": null,
      "metadata": {
        "id": "5PfrfNm293Xe"
      },
      "outputs": [],
      "source": [
        "def check_tie(board):\n",
        "    return all(board[i][j] != 0 for i in range(3) for j in range(3))"
      ]
    },
    {
      "cell_type": "code",
      "execution_count": null,
      "metadata": {
        "colab": {
          "background_save": true,
          "base_uri": "https://localhost:8080/"
        },
        "id": "_XCsWu_49-OX",
        "outputId": "bc8cb705-2c79-4dce-9cac-2f0f64cd462a"
      },
      "outputs": [
        {
          "output_type": "stream",
          "name": "stdout",
          "text": [
            "0 0 0\n",
            "-----\n",
            "0 0 0\n",
            "-----\n",
            "0 0 0\n",
            "-----\n"
          ]
        }
      ],
      "source": [
        "\n",
        "    player_symbols = ['X', 'O']\n",
        "    current_player = 0\n",
        "\n",
        "    while True:\n",
        "        printing(board)\n",
        "        player_symbol = player_symbols[current_player]\n",
        "\n",
        "        make_move(board, player_symbol)\n",
        "\n",
        "        if check_win(board, player_symbol):\n",
        "            printing(board)\n",
        "            print(f\"Player {player_symbol} wins!\")\n",
        "            break\n",
        "        elif check_tie(board):\n",
        "            printing(board)\n",
        "            print(\"It's a tie!\")\n",
        "            break\n",
        "\n",
        "        current_player = 1 - current_player  # Switch player\n",
        "\n",
        "# Call the main function to start the game\n",
        "\n"
      ]
    }
  ],
  "metadata": {
    "colab": {
      "provenance": [],
      "authorship_tag": "ABX9TyOwcPrr9L0heAyPNdyqg53s",
      "include_colab_link": true
    },
    "kernelspec": {
      "display_name": "Python 3",
      "name": "python3"
    },
    "language_info": {
      "name": "python"
    }
  },
  "nbformat": 4,
  "nbformat_minor": 0
}