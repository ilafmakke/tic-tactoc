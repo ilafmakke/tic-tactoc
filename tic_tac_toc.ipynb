{
  "nbformat": 4,
  "nbformat_minor": 0,
  "metadata": {
    "colab": {
      "provenance": [],
      "authorship_tag": "ABX9TyP2Do4tqhFR3uF4Zf4wY5R1",
      "include_colab_link": true
    },
    "kernelspec": {
      "name": "python3",
      "display_name": "Python 3"
    },
    "language_info": {
      "name": "python"
    }
  },
  "cells": [
    {
      "cell_type": "markdown",
      "metadata": {
        "id": "view-in-github",
        "colab_type": "text"
      },
      "source": [
        "<a href=\"https://colab.research.google.com/github/ilafmakke/tic-tactoc/blob/main/tic_tac_toc.ipynb\" target=\"_parent\"><img src=\"https://colab.research.google.com/assets/colab-badge.svg\" alt=\"Open In Colab\"/></a>"
      ]
    },
    {
      "cell_type": "code",
      "execution_count": 2,
      "metadata": {
        "colab": {
          "base_uri": "https://localhost:8080/"
        },
        "id": "eFmgaD5Wlyx6",
        "outputId": "abd45fcc-59b4-4276-f9b2-b3f3237cf93f"
      },
      "outputs": [
        {
          "output_type": "stream",
          "name": "stdout",
          "text": [
            "0 0 0\n",
            "-----\n",
            "0 0 0\n",
            "-----\n",
            "0 0 0\n",
            "-----\n"
          ]
        }
      ],
      "source": [
        "board=[[0,0,0],[0,0,0],[0,0,0]]\n",
        "def printing(board):\n",
        "  for s in board:\n",
        "    print(*s)\n",
        "    print('-' * 5)\n",
        "\n",
        "printing(board)\n"
      ]
    },
    {
      "cell_type": "code",
      "source": [
        "def make_move(board, player_symbol):\n",
        "    while True:\n",
        "        try:\n",
        "            player_row = int(input(f\"Player {player_symbol}, enter row (0, 1, or 2): \"))\n",
        "            player_col = int(input(f\"Player {player_symbol}, enter column (0, 1, or 2): \"))\n",
        "\n",
        "            if 0 <= player_row < 3 and 0 <= player_col < 3 and board[player_row][player_col] == 0:\n",
        "                board[player_row][player_col] = player_symbol\n",
        "                break\n",
        "            else:\n",
        "                print(\"Invalid move. Try again.\")\n",
        "        except ValueError:\n",
        "            print(\"Invalid input. Please enter a number.\")\n",
        "\n",
        "printing(board)\n"
      ],
      "metadata": {
        "id": "bX4khOFgswJz",
        "colab": {
          "base_uri": "https://localhost:8080/"
        },
        "outputId": "518f0f47-3a9b-43af-98dd-e78be86a8282"
      },
      "execution_count": 3,
      "outputs": [
        {
          "output_type": "stream",
          "name": "stdout",
          "text": [
            "0 0 0\n",
            "-----\n",
            "0 0 0\n",
            "-----\n",
            "0 0 0\n",
            "-----\n"
          ]
        }
      ]
    },
    {
      "cell_type": "code",
      "source": [
        "def check_win(board, player_symbol):\n",
        "    # Check rows, columns, and diagonals for a win\n",
        "    for i in range(3):\n",
        "        if all(board[i][j] == player_symbol for j in range(3)) or \\\n",
        "           all(board[j][i] == player_symbol for j in range(3)):\n",
        "            return True\n",
        "    if all(board[i][i] == player_symbol for i in range(3)) or \\\n",
        "       all(board[i][2 - i] == player_symbol for i in range(3)):\n",
        "        return True\n",
        "    return False"
      ],
      "metadata": {
        "id": "8TBhayn19lzV"
      },
      "execution_count": 4,
      "outputs": []
    },
    {
      "cell_type": "code",
      "source": [
        "def check_tie(board):\n",
        "    return all(board[i][j] != 0 for i in range(3) for j in range(3))"
      ],
      "metadata": {
        "id": "5PfrfNm293Xe"
      },
      "execution_count": 5,
      "outputs": []
    },
    {
      "cell_type": "code",
      "source": [
        "\n",
        "    player_symbols = ['X', 'O']\n",
        "\n",
        "\n",
        "    while True:\n",
        "        printing(board)\n",
        "        player_symbol = player_symbols[0]\n",
        "\n",
        "        make_move(board, player_symbol)\n",
        "\n",
        "        if check_win(board, player_symbol):\n",
        "            printing(board)\n",
        "            print(f\"Player {player_symbol} wins!\")\n",
        "            break\n",
        "        elif check_tie(board):\n",
        "            printing(board)\n",
        "            print(\"It's a tie!\")\n",
        "            break\n",
        "\n",
        "        current_player = 1 - current_player  # Switch player\n",
        "\n",
        "# Call the main function to start the game\n",
        "\n"
      ],
      "metadata": {
        "colab": {
          "base_uri": "https://localhost:8080/"
        },
        "id": "_XCsWu_49-OX",
        "outputId": "ee0637c1-71f8-40db-ce83-6df490b3f6b8"
      },
      "execution_count": null,
      "outputs": [
        {
          "output_type": "stream",
          "name": "stdout",
          "text": [
            "0 0 0\n",
            "-----\n",
            "0 0 0\n",
            "-----\n",
            "0 0 0\n",
            "-----\n"
          ]
        }
      ]
    }
  ]
}